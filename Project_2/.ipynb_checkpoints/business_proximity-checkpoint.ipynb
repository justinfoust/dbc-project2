{
 "cells": [
  {
   "cell_type": "code",
   "execution_count": 2,
   "metadata": {},
   "outputs": [],
   "source": [
    "import pandas as pd\n",
    "import numpy as np\n",
    "import matplotlib.pyplot as plt\n",
    "import json\n",
    "import geopy\n",
    "from geopy import distance"
   ]
  },
  {
   "cell_type": "code",
   "execution_count": 4,
   "metadata": {},
   "outputs": [],
   "source": [
    "activeBusiness = 'data/Listing_of_Active_Businesses.csv'\n",
    "activeBusinessJSON = 'data/business_clean_parsed.json'"
   ]
  },
  {
   "cell_type": "code",
   "execution_count": 33,
   "metadata": {},
   "outputs": [],
   "source": [
    "bus_df = pd.read_csv(activeBusiness, dtype={\n",
    "    'LOCATION ACCOUNT #': 'str',\n",
    "    'BUSINESSNAME': 'str',\n",
    "    'DBA NAME': 'str',\n",
    "    'STREET ADDRESS': 'str',\n",
    "    'CITY': 'str',\n",
    "    'ZIP CODE': 'str',\n",
    "    'LOCATION DESCRIPTION': 'str',\n",
    "    'MAILING ADDRESS': 'str',\n",
    "    'MAILING CITY': 'str',\n",
    "    'MAILING ZIP CODE': 'str',\n",
    "    'NAICS': 'float',\n",
    "    'PRIMARY NAICS DESCRIPTION': 'str',\n",
    "    'COUNCIL DISTRICT': 'str',\n",
    "    'LOCATION START DATE': 'str',\n",
    "    'LOCATION END DATE': 'str',\n",
    "    'LOCATION': 'str'\n",
    "})"
   ]
  },
  {
   "cell_type": "code",
   "execution_count": 110,
   "metadata": {},
   "outputs": [
    {
     "name": "stdout",
     "output_type": "stream",
     "text": [
      "<class 'pandas.core.frame.DataFrame'>\n",
      "RangeIndex: 535624 entries, 0 to 535623\n",
      "Data columns (total 16 columns):\n",
      "LOCATION ACCOUNT #           535624 non-null object\n",
      "BUSINESS NAME                535624 non-null object\n",
      "DBA NAME                     186259 non-null object\n",
      "STREET ADDRESS               535602 non-null object\n",
      "CITY                         535597 non-null object\n",
      "ZIP CODE                     535624 non-null object\n",
      "LOCATION DESCRIPTION         535618 non-null object\n",
      "MAILING ADDRESS              246638 non-null object\n",
      "MAILING CITY                 246650 non-null object\n",
      "MAILING ZIP CODE             246564 non-null object\n",
      "NAICS                        483574 non-null float64\n",
      "PRIMARY NAICS DESCRIPTION    483574 non-null object\n",
      "COUNCIL DISTRICT             535624 non-null object\n",
      "LOCATION START DATE          532028 non-null object\n",
      "LOCATION END DATE            0 non-null object\n",
      "LOCATION                     529804 non-null object\n",
      "dtypes: float64(1), object(15)\n",
      "memory usage: 65.4+ MB\n"
     ]
    }
   ],
   "source": [
    "bus_df.info()"
   ]
  },
  {
   "cell_type": "code",
   "execution_count": null,
   "metadata": {},
   "outputs": [],
   "source": []
  },
  {
   "cell_type": "markdown",
   "metadata": {},
   "source": [
    "### Remove all rows for which there are not coordinate values"
   ]
  },
  {
   "cell_type": "code",
   "execution_count": 73,
   "metadata": {},
   "outputs": [
    {
     "name": "stdout",
     "output_type": "stream",
     "text": [
      "<class 'pandas.core.frame.DataFrame'>\n",
      "RangeIndex: 529804 entries, 0 to 529803\n",
      "Data columns (total 15 columns):\n",
      "LOCATION ACCOUNT #           529804 non-null object\n",
      "BUSINESS NAME                529804 non-null object\n",
      "DBA NAME                     184379 non-null object\n",
      "STREET ADDRESS               529783 non-null object\n",
      "CITY                         529779 non-null object\n",
      "ZIP CODE                     529804 non-null object\n",
      "LOCATION DESCRIPTION         529798 non-null object\n",
      "MAILING ADDRESS              244147 non-null object\n",
      "MAILING CITY                 244157 non-null object\n",
      "MAILING ZIP CODE             244071 non-null object\n",
      "NAICS                        479310 non-null float64\n",
      "PRIMARY NAICS DESCRIPTION    479310 non-null object\n",
      "COUNCIL DISTRICT             529804 non-null object\n",
      "LOCATION START DATE          526322 non-null object\n",
      "LOCATION                     529804 non-null object\n",
      "dtypes: float64(1), object(14)\n",
      "memory usage: 60.6+ MB\n"
     ]
    }
   ],
   "source": [
    "bus_coord_filtered = bus_df.dropna(subset=['LOCATION']).reset_index().drop(['index', 'LOCATION END DATE'], axis=1)\n",
    "bus_coord_filtered.info()"
   ]
  },
  {
   "cell_type": "code",
   "execution_count": null,
   "metadata": {},
   "outputs": [],
   "source": []
  },
  {
   "cell_type": "markdown",
   "metadata": {},
   "source": [
    "### Parse coordinates column data from string to array: (lat, lon)"
   ]
  },
  {
   "cell_type": "code",
   "execution_count": 60,
   "metadata": {},
   "outputs": [],
   "source": [
    "bus_coord_parsed = bus_coord_filtered.drop(['LOCATION'], axis=1)\n",
    "lat_coord = []\n",
    "lon_coord = []\n",
    "\n",
    "# It was taking far too long to parse and directly add to dataframe, so lists were made and those appended\n",
    "\n",
    "\n",
    "for index, row in bus_coord_filtered.iterrows():\n",
    "    coords = [float(num) for num in bus_coord_filtered.loc[index, 'LOCATION'].lstrip(\"'(\").strip(\"')\").replace(' ','').split(',')]\n",
    "    lat_coord.append(coords[0])\n",
    "    lon_coord.append(coords[1])\n",
    "    \n",
    "bus_coord_parsed['LAT'] = lat_coord\n",
    "bus_coord_parsed['LON'] = lon_coord\n",
    "\n",
    "bus_coord_parsed.info()"
   ]
  },
  {
   "cell_type": "code",
   "execution_count": 76,
   "metadata": {},
   "outputs": [
    {
     "name": "stdout",
     "output_type": "stream",
     "text": [
      "<class 'pandas.core.frame.DataFrame'>\n",
      "RangeIndex: 529804 entries, 0 to 529803\n",
      "Data columns (total 16 columns):\n",
      "LOCATION ACCOUNT #           529804 non-null object\n",
      "BUSINESS NAME                529804 non-null object\n",
      "DBA NAME                     184379 non-null object\n",
      "STREET ADDRESS               529783 non-null object\n",
      "CITY                         529779 non-null object\n",
      "ZIP CODE                     529804 non-null object\n",
      "LOCATION DESCRIPTION         529798 non-null object\n",
      "MAILING ADDRESS              244147 non-null object\n",
      "MAILING CITY                 244157 non-null object\n",
      "MAILING ZIP CODE             244071 non-null object\n",
      "NAICS                        479310 non-null float64\n",
      "PRIMARY NAICS DESCRIPTION    479310 non-null object\n",
      "COUNCIL DISTRICT             529804 non-null object\n",
      "LOCATION START DATE          526322 non-null object\n",
      "LAT                          529804 non-null float64\n",
      "LON                          529804 non-null float64\n",
      "dtypes: float64(3), object(13)\n",
      "memory usage: 64.7+ MB\n"
     ]
    }
   ],
   "source": [
    "bus_coord_parsed.info()"
   ]
  },
  {
   "cell_type": "code",
   "execution_count": 78,
   "metadata": {},
   "outputs": [],
   "source": [
    "# Export data to json and csv files\n",
    "\n",
    "bus_coord_parsed.to_json(path_or_buf='business_clean_parsed.json', orient='records')\n",
    "bus_coord_parsed.to_csv('business_clean_parsed.csv')"
   ]
  },
  {
   "cell_type": "code",
   "execution_count": 79,
   "metadata": {},
   "outputs": [],
   "source": []
  },
  {
   "cell_type": "markdown",
   "metadata": {},
   "source": [
    "### Generate list of businesses within specified radius distance of target business, by coordinates"
   ]
  },
  {
   "cell_type": "code",
   "execution_count": 5,
   "metadata": {},
   "outputs": [],
   "source": [
    "# Load cleaned data json file\n",
    "\n",
    "with open(activeBusinessJSON) as f:\n",
    "    data = json.load(f)"
   ]
  },
  {
   "cell_type": "code",
   "execution_count": 9,
   "metadata": {},
   "outputs": [
    {
     "data": {
      "text/plain": [
       "'\\nHere is some comments are these ignored?\\nWIll there be an error\\n'"
      ]
     },
     "execution_count": 9,
     "metadata": {},
     "output_type": "execute_result"
    }
   ],
   "source": []
  },
  {
   "cell_type": "code",
   "execution_count": 8,
   "metadata": {},
   "outputs": [
    {
     "name": "stdout",
     "output_type": "stream",
     "text": [
      "STARBUCKS CORPORATION\n",
      "REDBOX AUTOMATED RETAIL LLC\n",
      "LAZ KARP ASSOCIATES LLC\n",
      "ABM INDUSTRY GROUPS, LLC\n",
      "COINSTAR ASSET HOLDINGS, LLC\n",
      "VOLUNTEERS OF AMERICA OF LOS ANGELES\n",
      "UNITED VALET PARKING INC\n",
      "GARFIELD BEACH CVS LLC\n",
      "T MOBILE WEST LLC\n",
      "PCAM LLC\n"
     ]
    }
   ],
   "source": [
    "# Find the top 10 businesses from data file with the most locations\n",
    "\n",
    "t10_names = pd.DataFrame(data).groupby('BUSINESS NAME').count().sort_values(by=['LAT'], ascending=False)['LAT'].head(10).index\n",
    "for name in t10_names:\n",
    "    print(name)"
   ]
  },
  {
   "cell_type": "markdown",
   "metadata": {},
   "source": []
  },
  {
   "cell_type": "markdown",
   "metadata": {},
   "source": [
    "The following code generates a list of dictionaries of all businesses within a specified radius of every location of the top ten businesses listed above.\n",
    "\n",
    "In order to keep the size of the resultant output as small as possible, the majority of information of each business was omitted leaving the \"LOCATION ACCOUNT #\" as a key value to use to identify businesses from the main dataset when additional information is needed."
   ]
  },
  {
   "cell_type": "code",
   "execution_count": null,
   "metadata": {
    "scrolled": true
   },
   "outputs": [
    {
     "name": "stdout",
     "output_type": "stream",
     "text": [
      "STARBUCKS CORPORATION\n",
      "20\n"
     ]
    }
   ],
   "source": [
    "# Using default method of geodesic distance is ~50x slower in computation than using great-circle distance.\n",
    "# Great-circle distance has up to ~0.5% error, more details in GeoPy documentation. \n",
    "\n",
    "search_radius = 0.5\n",
    "top10_proximity_results = []\n",
    "\n",
    "for busName in t10_names:\n",
    "    total_search_results = {\n",
    "        'business_name': busName,\n",
    "        'results': []\n",
    "    }\n",
    "    \n",
    "    print(busName)\n",
    "    counter = 0\n",
    "\n",
    "    for busOrigin in data:\n",
    "        if (busOrigin['BUSINESS NAME'] == busName):\n",
    "\n",
    "            counter += 1\n",
    "            if (counter % 20 == 0):\n",
    "                print(counter)\n",
    "\n",
    "            single_search_results = {\n",
    "                'origin_business': busOrigin['LOCATION ACCOUNT #'],\n",
    "                'in_proximity': []\n",
    "            }\n",
    "            origin_coords = [busOrigin['LAT'], busOrigin['LON']]\n",
    "\n",
    "            for busDict in data:\n",
    "                dest_coords = [busDict['LAT'], busDict['LON']]\n",
    "                distance = geopy.distance.great_circle(origin_coords, dest_coords).miles\n",
    "\n",
    "                if (distance <= search_radius):\n",
    "                    single_search_results['in_proximity'].append({\n",
    "                        'LOCATION ACCOUNT #': busDict['LOCATION ACCOUNT #'],\n",
    "                        'BUSINESS NAME': busDict['BUSINESS NAME'],\n",
    "                        'DISTANCE': distance\n",
    "                    })\n",
    "\n",
    "            total_search_results['results'].append(single_search_results)\n",
    "            \n",
    "    top10_proximity_results.append(total_search_results)"
   ]
  },
  {
   "cell_type": "code",
   "execution_count": 170,
   "metadata": {},
   "outputs": [],
   "source": [
    "# Export results as json file\n",
    "\n",
    "with open('data/top10_proximity_data.json', 'w') as fp:\n",
    "    json.dump(top10_proximity_results, fp)"
   ]
  }
 ],
 "metadata": {
  "hide_input": false,
  "kernelspec": {
   "display_name": "Python 3",
   "language": "python",
   "name": "python3"
  },
  "language_info": {
   "codemirror_mode": {
    "name": "ipython",
    "version": 3
   },
   "file_extension": ".py",
   "mimetype": "text/x-python",
   "name": "python",
   "nbconvert_exporter": "python",
   "pygments_lexer": "ipython3",
   "version": "3.7.4"
  },
  "toc": {
   "base_numbering": 1,
   "nav_menu": {},
   "number_sections": true,
   "sideBar": true,
   "skip_h1_title": false,
   "title_cell": "Table of Contents",
   "title_sidebar": "Contents",
   "toc_cell": false,
   "toc_position": {},
   "toc_section_display": true,
   "toc_window_display": false
  },
  "varInspector": {
   "cols": {
    "lenName": 16,
    "lenType": 16,
    "lenVar": 40
   },
   "kernels_config": {
    "python": {
     "delete_cmd_postfix": "",
     "delete_cmd_prefix": "del ",
     "library": "var_list.py",
     "varRefreshCmd": "print(var_dic_list())"
    },
    "r": {
     "delete_cmd_postfix": ") ",
     "delete_cmd_prefix": "rm(",
     "library": "var_list.r",
     "varRefreshCmd": "cat(var_dic_list()) "
    }
   },
   "types_to_exclude": [
    "module",
    "function",
    "builtin_function_or_method",
    "instance",
    "_Feature"
   ],
   "window_display": false
  }
 },
 "nbformat": 4,
 "nbformat_minor": 4
}
